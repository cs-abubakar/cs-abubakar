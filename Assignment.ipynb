{
 "cells": [
  {
   "cell_type": "code",
   "execution_count": 1,
   "id": "2a45d041",
   "metadata": {},
   "outputs": [
    {
     "name": "stdout",
     "output_type": "stream",
     "text": [
      "Twinkle , twinkle , little star \n",
      "\tHow i wonder what you are! \n",
      "\t\tUp above the world so high \n",
      "\t\tLike a diamond in the sky. \n",
      "Twinkle , twinkle , little star \n",
      "\tHow i wonder what you are!\n"
     ]
    }
   ],
   "source": [
    "print(\"Twinkle , twinkle , little star \\n\\tHow i wonder what you are! \\n\\t\\tUp above the world so high \\n\\t\\tLike a diamond in the sky. \\nTwinkle , twinkle , little star \\n\\tHow i wonder what you are!\");\n"
   ]
  },
  {
   "cell_type": "code",
   "execution_count": 2,
   "id": "849ffd41",
   "metadata": {},
   "outputs": [
    {
     "name": "stdout",
     "output_type": "stream",
     "text": [
      "3.8.8 (default, Apr 13 2021, 15:08:03) [MSC v.1916 64 bit (AMD64)]\n"
     ]
    }
   ],
   "source": [
    "import sys\n",
    "print(sys.version)"
   ]
  },
  {
   "cell_type": "code",
   "execution_count": 3,
   "id": "0f46ff26",
   "metadata": {},
   "outputs": [
    {
     "name": "stdout",
     "output_type": "stream",
     "text": [
      "Current date and time : \n",
      "2021-10-24 15:44:19\n"
     ]
    }
   ],
   "source": [
    "import datetime\n",
    "now = datetime.datetime.now()\n",
    "print (\"Current date and time : \")\n",
    "print (now.strftime(\"%Y-%m-%d %H:%M:%S\"))"
   ]
  },
  {
   "cell_type": "code",
   "execution_count": 4,
   "id": "e23fe3f6",
   "metadata": {},
   "outputs": [
    {
     "name": "stdout",
     "output_type": "stream",
     "text": [
      "Input the radius of the circle : 20\n",
      "The area of the circle with radius 20.0 is: 1256.6370614359173\n"
     ]
    }
   ],
   "source": [
    "from math import pi\n",
    "r = float(input (\"Input the radius of the circle : \"))\n",
    "print (\"The area of the circle with radius \" + str(r) + \" is: \" + str(pi * r**2))"
   ]
  },
  {
   "cell_type": "code",
   "execution_count": 5,
   "id": "1d12f016",
   "metadata": {},
   "outputs": [
    {
     "name": "stdout",
     "output_type": "stream",
     "text": [
      "Enteryour nameAbu Bakar\n"
     ]
    },
    {
     "data": {
      "text/plain": [
       "'rakaB ubA'"
      ]
     },
     "execution_count": 5,
     "metadata": {},
     "output_type": "execute_result"
    }
   ],
   "source": [
    "a=input(\"Enteryour name\")[::-1]\n",
    "a"
   ]
  },
  {
   "cell_type": "code",
   "execution_count": 6,
   "id": "49076341",
   "metadata": {},
   "outputs": [
    {
     "name": "stdout",
     "output_type": "stream",
     "text": [
      "Abu Bakar\n"
     ]
    }
   ],
   "source": [
    "A = \"Abu\"\n",
    "B = \"Bakar\"\n",
    "print(A,B)"
   ]
  },
  {
   "cell_type": "code",
   "execution_count": 7,
   "id": "08573efe",
   "metadata": {},
   "outputs": [
    {
     "name": "stdout",
     "output_type": "stream",
     "text": [
      "Enter marks of the first subject: 78\n",
      "Enter marks of the second subject: 83\n",
      "Enter marks of the third subject: 94\n",
      "Enter marks of the fourth subject: 65\n",
      "Enter marks of the fifth subject: 79\n",
      "A\n"
     ]
    }
   ],
   "source": [
    "eng=int(input(\"Enter marks of the first subject: \"))\n",
    "urdu=int(input(\"Enter marks of the second subject: \"))\n",
    "maths=int(input(\"Enter marks of the third subject: \"))\n",
    "chemistry=int(input(\"Enter marks of the fourth subject: \"))\n",
    "physics=int(input(\"Enter marks of the fifth subject: \"))\n",
    "total=500\n",
    "percent=(eng+urdu+maths+chemistry+physics)/total*100\n",
    "if percent <100 and percent >=80:\n",
    "    print(\"A+\")\n",
    "if percent <80 and percent >=70:\n",
    "    print(\"A\")        \n",
    "if percent <70 and percent >=60:\n",
    "    print(\"B\")\n",
    "if percent <60 and percent >=50:\n",
    "    print(\"C\")\n",
    "if percent <50 and percent >=40:\n",
    "    print(\"D\")    \n",
    "if percent <40 and percent >=33:\n",
    "    print(\"E\")\n",
    "elif percent < 0 and percent > 100:\n",
    "    print(\"you didnot write the correct percentage\")"
   ]
  },
  {
   "cell_type": "code",
   "execution_count": 8,
   "id": "5dd439f4",
   "metadata": {},
   "outputs": [
    {
     "name": "stdout",
     "output_type": "stream",
     "text": [
      "Enter a number: 65\n",
      "This is an odd number.\n"
     ]
    }
   ],
   "source": [
    "num = int(input(\"Enter a number: \"))\n",
    "mod = num % 2\n",
    "if mod > 0:\n",
    "    print(\"This is an odd number.\")\n",
    "else:\n",
    "    print(\"This is an even number.\")"
   ]
  },
  {
   "cell_type": "code",
   "execution_count": 9,
   "id": "8a81f172",
   "metadata": {},
   "outputs": [
    {
     "name": "stdout",
     "output_type": "stream",
     "text": [
      "['Abu Bakar', 'Areeb', 'Hafeez', 'Arshiya', 'Kinza']\n"
     ]
    }
   ],
   "source": [
    "A1=[\"Abu Bakar\",\"Areeb\",\"Hafeez\",\"Arshiya\",\"Kinza\"]\n",
    "print(A1)"
   ]
  },
  {
   "cell_type": "code",
   "execution_count": 10,
   "id": "91a8cca1",
   "metadata": {},
   "outputs": [
    {
     "data": {
      "text/plain": [
       "5"
      ]
     },
     "execution_count": 10,
     "metadata": {},
     "output_type": "execute_result"
    }
   ],
   "source": [
    "len(A1)"
   ]
  },
  {
   "cell_type": "code",
   "execution_count": 11,
   "id": "0fc0f730",
   "metadata": {},
   "outputs": [
    {
     "name": "stdout",
     "output_type": "stream",
     "text": [
      "Sum of all elements in given list:  246\n"
     ]
    }
   ],
   "source": [
    "total = 0\n",
    "ele = 0\n",
    "list1 = [20, 56, 34, 63, 73] \n",
    " \n",
    "while(ele < len(list1)):\n",
    "    total = total + list1[ele]\n",
    "    ele += 1\n",
    "print(\"Sum of all elements in given list: \", total)"
   ]
  },
  {
   "cell_type": "code",
   "execution_count": 12,
   "id": "f1c5174e",
   "metadata": {},
   "outputs": [
    {
     "name": "stdout",
     "output_type": "stream",
     "text": [
      "Largest element is: 8045\n"
     ]
    }
   ],
   "source": [
    "list1 = [21, 220, 4020, 8045, 199]\n",
    "print(\"Largest element is:\", max(list1))"
   ]
  },
  {
   "cell_type": "code",
   "execution_count": 13,
   "id": "da7fa68b",
   "metadata": {},
   "outputs": [
    {
     "name": "stdout",
     "output_type": "stream",
     "text": [
      "1\n",
      "1\n",
      "2\n",
      "3\n"
     ]
    }
   ],
   "source": [
    "a = [1, 1, 2, 3, 5, 8, 13, 21, 34, 55, 89]\n",
    "\n",
    "for i in a:\n",
    "\n",
    "    if i < 5:\n",
    "\n",
    "        print(i)"
   ]
  },
  {
   "cell_type": "code",
   "execution_count": null,
   "id": "35020756",
   "metadata": {},
   "outputs": [],
   "source": []
  }
 ],
 "metadata": {
  "kernelspec": {
   "display_name": "Python 3",
   "language": "python",
   "name": "python3"
  },
  "language_info": {
   "codemirror_mode": {
    "name": "ipython",
    "version": 3
   },
   "file_extension": ".py",
   "mimetype": "text/x-python",
   "name": "python",
   "nbconvert_exporter": "python",
   "pygments_lexer": "ipython3",
   "version": "3.8.8"
  }
 },
 "nbformat": 4,
 "nbformat_minor": 5
}
